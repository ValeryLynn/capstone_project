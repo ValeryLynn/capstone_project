{
 "cells": [
  {
   "cell_type": "markdown",
   "metadata": {},
   "source": [
    "<h1><center>It’s Time to Make Some Crazy Money!</center></h1>\n",
    "<h1><center>Predicting a NYC Taxi Trip Duration</center></h1>\n",
    "*****"
   ]
  },
  {
   "cell_type": "markdown",
   "metadata": {},
   "source": [
    "## Table of contents\n",
    "1. [Modeling](#modeling)\n",
    "    1. [Split Data](#split)\n",
    "    2. [Scale data](#scale)\n",
    "    3. [RMSLE](#metric)\n",
    "    4. [Linear Regression](#linear)\n",
    "    5. [Support Vector Machine](#svm)\n",
    "    6. [Random Forest](#rforest)\n",
    "    7. [XGBoost](#xgboost)\n",
    "    8. [Tuning XGBoost](#tuning)\n",
    "2. [Conclusion](#conclusion)\n",
    "    1. [Results](#results)\n",
    "    2. [Recommendations](#recommendations)"
   ]
  },
  {
   "cell_type": "markdown",
   "metadata": {},
   "source": [
    "### Loading libraries <a name=\"libraries\"></a>\n",
    "***\n",
    "These are some of the libraries used for modeling."
   ]
  },
  {
   "cell_type": "code",
   "execution_count": 1,
   "metadata": {},
   "outputs": [],
   "source": [
    "import pandas as pd\n",
    "import numpy as np\n",
    "import matplotlib.pyplot as plt\n",
    "\n",
    "%matplotlib inline\n",
    "\n",
    "from sklearn.model_selection import GridSearchCV, train_test_split\n",
    "from sklearn.pipeline import Pipeline\n",
    "\n",
    "from sklearn.preprocessing import StandardScaler\n",
    "from sklearn.preprocessing import MinMaxScaler\n",
    "\n",
    "from sklearn.linear_model import LinearRegression\n",
    "from sklearn.svm import LinearSVR\n",
    "from sklearn.ensemble import RandomForestRegressor\n",
    "from xgboost import XGBRegressor\n",
    "import xgboost as xgb"
   ]
  },
  {
   "cell_type": "markdown",
   "metadata": {},
   "source": [
    "### Loading data <a name=\"acquire\"></a>\n",
    "***\n",
    "The data was acquired from a Kaggle's Competition called [New York City Taxi Trip Duration](https://www.kaggle.com/c/nyc-taxi-trip-duration). The data has been previously [cleaned](https://github.com/emmpew/datascience/blob/master/capstone_project/data_cleaning.ipynb) and is ready for modeling."
   ]
  },
  {
   "cell_type": "code",
   "execution_count": 2,
   "metadata": {},
   "outputs": [],
   "source": [
    "train = pd.read_csv('cleaned_train_data.csv')\n",
    "test = pd.read_csv('cleaned_test_data.csv')"
   ]
  },
  {
   "cell_type": "markdown",
   "metadata": {},
   "source": [
    "### Data content <a name=\"content\"></a>\n",
    "***\n",
    "Let's look at the content of the data such as shape, columns, and summary statistics. "
   ]
  },
  {
   "cell_type": "code",
   "execution_count": 3,
   "metadata": {},
   "outputs": [
    {
     "data": {
      "text/html": [
       "<div>\n",
       "<style scoped>\n",
       "    .dataframe tbody tr th:only-of-type {\n",
       "        vertical-align: middle;\n",
       "    }\n",
       "\n",
       "    .dataframe tbody tr th {\n",
       "        vertical-align: top;\n",
       "    }\n",
       "\n",
       "    .dataframe thead th {\n",
       "        text-align: right;\n",
       "    }\n",
       "</style>\n",
       "<table border=\"1\" class=\"dataframe\">\n",
       "  <thead>\n",
       "    <tr style=\"text-align: right;\">\n",
       "      <th></th>\n",
       "      <th>Unnamed: 0</th>\n",
       "      <th>Unnamed: 0.1</th>\n",
       "      <th>vendor_id</th>\n",
       "      <th>passenger_count</th>\n",
       "      <th>pickup_longitude</th>\n",
       "      <th>pickup_latitude</th>\n",
       "      <th>dropoff_longitude</th>\n",
       "      <th>dropoff_latitude</th>\n",
       "      <th>trip_duration</th>\n",
       "      <th>store_and_fwd_flag_Y</th>\n",
       "      <th>pickup_month</th>\n",
       "      <th>pickup_hour</th>\n",
       "      <th>direct_distance</th>\n",
       "      <th>pickup_weekday</th>\n",
       "    </tr>\n",
       "  </thead>\n",
       "  <tbody>\n",
       "    <tr>\n",
       "      <th>0</th>\n",
       "      <td>0</td>\n",
       "      <td>0.0</td>\n",
       "      <td>2.0</td>\n",
       "      <td>1.0</td>\n",
       "      <td>-73.98215</td>\n",
       "      <td>40.76794</td>\n",
       "      <td>-73.96463</td>\n",
       "      <td>40.76560</td>\n",
       "      <td>455.0</td>\n",
       "      <td>0.0</td>\n",
       "      <td>3.0</td>\n",
       "      <td>17.0</td>\n",
       "      <td>0.933406</td>\n",
       "      <td>0.0</td>\n",
       "    </tr>\n",
       "    <tr>\n",
       "      <th>1</th>\n",
       "      <td>1</td>\n",
       "      <td>1.0</td>\n",
       "      <td>1.0</td>\n",
       "      <td>1.0</td>\n",
       "      <td>-73.98042</td>\n",
       "      <td>40.73856</td>\n",
       "      <td>-73.99948</td>\n",
       "      <td>40.73115</td>\n",
       "      <td>663.0</td>\n",
       "      <td>0.0</td>\n",
       "      <td>6.0</td>\n",
       "      <td>0.0</td>\n",
       "      <td>1.123849</td>\n",
       "      <td>6.0</td>\n",
       "    </tr>\n",
       "    <tr>\n",
       "      <th>2</th>\n",
       "      <td>2</td>\n",
       "      <td>2.0</td>\n",
       "      <td>2.0</td>\n",
       "      <td>1.0</td>\n",
       "      <td>-73.97903</td>\n",
       "      <td>40.76394</td>\n",
       "      <td>-74.00533</td>\n",
       "      <td>40.71009</td>\n",
       "      <td>2124.0</td>\n",
       "      <td>0.0</td>\n",
       "      <td>1.0</td>\n",
       "      <td>11.0</td>\n",
       "      <td>3.964154</td>\n",
       "      <td>1.0</td>\n",
       "    </tr>\n",
       "    <tr>\n",
       "      <th>3</th>\n",
       "      <td>3</td>\n",
       "      <td>3.0</td>\n",
       "      <td>2.0</td>\n",
       "      <td>1.0</td>\n",
       "      <td>-74.01004</td>\n",
       "      <td>40.71997</td>\n",
       "      <td>-74.01227</td>\n",
       "      <td>40.70672</td>\n",
       "      <td>429.0</td>\n",
       "      <td>0.0</td>\n",
       "      <td>4.0</td>\n",
       "      <td>19.0</td>\n",
       "      <td>0.921886</td>\n",
       "      <td>2.0</td>\n",
       "    </tr>\n",
       "    <tr>\n",
       "      <th>4</th>\n",
       "      <td>4</td>\n",
       "      <td>4.0</td>\n",
       "      <td>2.0</td>\n",
       "      <td>1.0</td>\n",
       "      <td>-73.97305</td>\n",
       "      <td>40.79321</td>\n",
       "      <td>-73.97292</td>\n",
       "      <td>40.78252</td>\n",
       "      <td>435.0</td>\n",
       "      <td>0.0</td>\n",
       "      <td>3.0</td>\n",
       "      <td>13.0</td>\n",
       "      <td>0.737591</td>\n",
       "      <td>5.0</td>\n",
       "    </tr>\n",
       "  </tbody>\n",
       "</table>\n",
       "</div>"
      ],
      "text/plain": [
       "   Unnamed: 0  Unnamed: 0.1  vendor_id  passenger_count  pickup_longitude  \\\n",
       "0           0           0.0        2.0              1.0         -73.98215   \n",
       "1           1           1.0        1.0              1.0         -73.98042   \n",
       "2           2           2.0        2.0              1.0         -73.97903   \n",
       "3           3           3.0        2.0              1.0         -74.01004   \n",
       "4           4           4.0        2.0              1.0         -73.97305   \n",
       "\n",
       "   pickup_latitude  dropoff_longitude  dropoff_latitude  trip_duration  \\\n",
       "0         40.76794          -73.96463          40.76560          455.0   \n",
       "1         40.73856          -73.99948          40.73115          663.0   \n",
       "2         40.76394          -74.00533          40.71009         2124.0   \n",
       "3         40.71997          -74.01227          40.70672          429.0   \n",
       "4         40.79321          -73.97292          40.78252          435.0   \n",
       "\n",
       "   store_and_fwd_flag_Y  pickup_month  pickup_hour  direct_distance  \\\n",
       "0                   0.0           3.0         17.0         0.933406   \n",
       "1                   0.0           6.0          0.0         1.123849   \n",
       "2                   0.0           1.0         11.0         3.964154   \n",
       "3                   0.0           4.0         19.0         0.921886   \n",
       "4                   0.0           3.0         13.0         0.737591   \n",
       "\n",
       "   pickup_weekday  \n",
       "0             0.0  \n",
       "1             6.0  \n",
       "2             1.0  \n",
       "3             2.0  \n",
       "4             5.0  "
      ]
     },
     "execution_count": 3,
     "metadata": {},
     "output_type": "execute_result"
    }
   ],
   "source": [
    "train.head()"
   ]
  },
  {
   "cell_type": "code",
   "execution_count": 4,
   "metadata": {},
   "outputs": [
    {
     "data": {
      "text/plain": [
       "(1450268, 14)"
      ]
     },
     "execution_count": 4,
     "metadata": {},
     "output_type": "execute_result"
    }
   ],
   "source": [
    "train.shape"
   ]
  },
  {
   "cell_type": "code",
   "execution_count": 5,
   "metadata": {},
   "outputs": [
    {
     "data": {
      "text/plain": [
       "Index(['Unnamed: 0', 'Unnamed: 0.1', 'vendor_id', 'passenger_count',\n",
       "       'pickup_longitude', 'pickup_latitude', 'dropoff_longitude',\n",
       "       'dropoff_latitude', 'trip_duration', 'store_and_fwd_flag_Y',\n",
       "       'pickup_month', 'pickup_hour', 'direct_distance', 'pickup_weekday'],\n",
       "      dtype='object')"
      ]
     },
     "execution_count": 5,
     "metadata": {},
     "output_type": "execute_result"
    }
   ],
   "source": [
    "train.columns"
   ]
  },
  {
   "cell_type": "code",
   "execution_count": 6,
   "metadata": {},
   "outputs": [
    {
     "name": "stdout",
     "output_type": "stream",
     "text": [
      "<class 'pandas.core.frame.DataFrame'>\n",
      "RangeIndex: 1450268 entries, 0 to 1450267\n",
      "Data columns (total 14 columns):\n",
      "Unnamed: 0              1450268 non-null int64\n",
      "Unnamed: 0.1            1450268 non-null float64\n",
      "vendor_id               1450268 non-null float64\n",
      "passenger_count         1450268 non-null float64\n",
      "pickup_longitude        1450268 non-null float64\n",
      "pickup_latitude         1450268 non-null float64\n",
      "dropoff_longitude       1450268 non-null float64\n",
      "dropoff_latitude        1450268 non-null float64\n",
      "trip_duration           1450268 non-null float64\n",
      "store_and_fwd_flag_Y    1450268 non-null float64\n",
      "pickup_month            1450268 non-null float64\n",
      "pickup_hour             1450268 non-null float64\n",
      "direct_distance         1450268 non-null float64\n",
      "pickup_weekday          1450268 non-null float64\n",
      "dtypes: float64(13), int64(1)\n",
      "memory usage: 154.9 MB\n"
     ]
    }
   ],
   "source": [
    "train.info()"
   ]
  },
  {
   "cell_type": "markdown",
   "metadata": {},
   "source": [
    "# 1. Modeling <a name='modeling'></a>\n",
    "***\n",
    "Now after cleaning the data, let's use the training dataset to train the model. "
   ]
  },
  {
   "cell_type": "markdown",
   "metadata": {},
   "source": [
    "### Split Data  <a name='split'></a>\n",
    "***\n",
    "Now that the test dataset is ready let's split the data."
   ]
  },
  {
   "cell_type": "code",
   "execution_count": 7,
   "metadata": {},
   "outputs": [],
   "source": [
    "X_train = train.drop('trip_duration',axis=1)\n",
    "y_train = train['trip_duration']\n",
    "\n",
    "X_train, X_test, y_train, y_test = train_test_split(X_train, y_train, test_size=0.30, random_state=102)"
   ]
  },
  {
   "cell_type": "markdown",
   "metadata": {},
   "source": [
    "### Scaling Data <a name='scale'></a>\n",
    "***\n",
    "Let's scale the data in a range from 0 to 1."
   ]
  },
  {
   "cell_type": "code",
   "execution_count": 8,
   "metadata": {},
   "outputs": [],
   "source": [
    "# scaler = MinMaxScaler()\n",
    "# scaler.fit(X_train)\n",
    "# X_train_scaled = scaler.fit_transform(X_train) \n",
    "# X_test_scaled = scaler.fit_transform(X_test)"
   ]
  },
  {
   "cell_type": "markdown",
   "metadata": {},
   "source": [
    "### RMSLE <a name='metric'></a>\n",
    "***\n",
    "Metrics used to evaluate models are problem specific. In this case, [Root Mean Squared Logarithmic Error](https://www.kaggle.com/wiki/RootMeanSquaredLogarithmicError) is the metric required for this problem. So the goal is to minimize the RMSLE."
   ]
  },
  {
   "cell_type": "code",
   "execution_count": 9,
   "metadata": {},
   "outputs": [],
   "source": [
    "def rmsle(y_true,y_pred):\n",
    "   assert len(y_true) == len(y_pred)\n",
    "   return np.square(np.log(y_pred + 1) - np.log(y_true + 1)).mean() ** 0.5"
   ]
  },
  {
   "cell_type": "markdown",
   "metadata": {},
   "source": [
    "### Linear regression <a name='linear'></a>\n",
    "***\n",
    "The goal with linear regression is to minimize the vertical distance between all the data points and the regression line. So in determining the best line, we are attempting to minimize the distance between all the points and their distance to the regression line.\n",
    "\n",
    "Let's use linear regression to have a baseline of a model and from there implement other models that reduce the error. GridSearchCV will allow us to do cross validation and hyperparameter tuning at the same time. The following parameters will be tuned:\n",
    "\n",
    "- fit_intercept: wheter to calculate the intercept for this model, meaning that if False, the intercept $\\beta_0$ from our linear regression equation will be 0.\n",
    "- normalize: to normalize the data before regression"
   ]
  },
  {
   "cell_type": "code",
   "execution_count": 10,
   "metadata": {},
   "outputs": [
    {
     "name": "stdout",
     "output_type": "stream",
     "text": [
      "CPU times: user 18 s, sys: 4.73 s, total: 22.8 s\n",
      "Wall time: 16.2 s\n"
     ]
    },
    {
     "data": {
      "text/plain": [
       "GridSearchCV(cv=5, error_score='raise',\n",
       "       estimator=LinearRegression(copy_X=True, fit_intercept=True, n_jobs=1, normalize=False),\n",
       "       fit_params=None, iid=True, n_jobs=1,\n",
       "       param_grid={'fit_intercept': [True, False], 'normalize': [True, False]},\n",
       "       pre_dispatch='2*n_jobs', refit=True, return_train_score='warn',\n",
       "       scoring=None, verbose=0)"
      ]
     },
     "execution_count": 10,
     "metadata": {},
     "output_type": "execute_result"
    }
   ],
   "source": [
    "params = {'fit_intercept':[True,False], 'normalize':[True,False]}\n",
    "\n",
    "linreg_cv = GridSearchCV(LinearRegression(),params, cv=5)\n",
    "%time linreg_cv.fit(X_train,y_train)"
   ]
  },
  {
   "cell_type": "code",
   "execution_count": 11,
   "metadata": {},
   "outputs": [
    {
     "name": "stdout",
     "output_type": "stream",
     "text": [
      "CPU times: user 36.1 ms, sys: 26 ms, total: 62 ms\n",
      "Wall time: 78.2 ms\n",
      "Best Parameters: {'fit_intercept': True, 'normalize': False}\n",
      "Best score is 0.6131640434846093\n"
     ]
    }
   ],
   "source": [
    "%time y_pred = linreg_cv.predict(X_test)\n",
    "\n",
    "print(\"Best Parameters: {}\".format(linreg_cv.best_params_)) "
   ]
  },
  {
   "cell_type": "code",
   "execution_count": 12,
   "metadata": {},
   "outputs": [
    {
     "name": "stderr",
     "output_type": "stream",
     "text": [
      "/Users/andrew/anaconda3/lib/python3.6/site-packages/ipykernel/__main__.py:3: RuntimeWarning: invalid value encountered in log\n",
      "  app.launch_new_instance()\n"
     ]
    },
    {
     "data": {
      "text/plain": [
       "0.5397417884235575"
      ]
     },
     "execution_count": 12,
     "metadata": {},
     "output_type": "execute_result"
    }
   ],
   "source": [
    "rmsle(y_test,y_pred)"
   ]
  },
  {
   "cell_type": "code",
   "execution_count": 13,
   "metadata": {},
   "outputs": [
    {
     "name": "stdout",
     "output_type": "stream",
     "text": [
      "Model R-Squared: 55.79%\n"
     ]
    }
   ],
   "source": [
    "print(\"Model R-Squared: {:.2f}%\".format(100*linreg_cv.score(X_test, y_test)))"
   ]
  },
  {
   "cell_type": "markdown",
   "metadata": {},
   "source": [
    "With one of the simplest linear models, the baseline rmsle is **0.5397**. $R^2$ is the percentage of the response variable variation that is explained by a linear model. In general, the higher the R-squared, the better the model fits your data. So the linear regression model explains **55.79%** of the variability of the response data around its mean. Now it is time to implement a more complex model such as Support Vector Machine. "
   ]
  },
  {
   "cell_type": "markdown",
   "metadata": {},
   "source": [
    "### SVM <a name='svm'></a>\n",
    "***\n",
    "Support Vector Machines are supervised learning models with associated learning algorithms that analyze data and recognize patterns. It can be used for both regression and classification; however, in this case, we will use it for regression. \n",
    "\n",
    "Let's use LinearSVR since it scales to large number of samples. First, create a pipeline and scale the data before using the SVM model. GridSearchCV will allow us to do cross validation and hyperparameter tuning at the same time. The following parameters will be tuned: \n",
    "\n",
    "- c: slack variable which allows the decision boundary to have some slack, meaning the model allows some misclassification. If we make c really small, we introduce more slack and get a more stable decision hyperplane. For regression, the influence of c is similar. You get less support vectors and get a smoother prediction. The slack variable allows for regression errors."
   ]
  },
  {
   "cell_type": "code",
   "execution_count": 14,
   "metadata": {},
   "outputs": [],
   "source": [
    "steps = [('scaler', StandardScaler()),\n",
    "         ('svr', LinearSVR())]\n",
    "\n",
    "pipeline = Pipeline(steps)\n",
    "\n",
    "params = {'svr__C':[0.1,1,10]}\n",
    "\n",
    "svr_cv = GridSearchCV(pipeline,params,cv=5,verbose=3)"
   ]
  },
  {
   "cell_type": "code",
   "execution_count": 15,
   "metadata": {},
   "outputs": [
    {
     "name": "stdout",
     "output_type": "stream",
     "text": [
      "Fitting 5 folds for each of 3 candidates, totalling 15 fits\n",
      "[CV] svr__C=0.1 ......................................................\n",
      "[CV] ............. svr__C=0.1, score=0.6003053797518216, total=   2.0s\n",
      "[CV] svr__C=0.1 ......................................................\n"
     ]
    },
    {
     "name": "stderr",
     "output_type": "stream",
     "text": [
      "[Parallel(n_jobs=1)]: Done   1 out of   1 | elapsed:    2.3s remaining:    0.0s\n"
     ]
    },
    {
     "name": "stdout",
     "output_type": "stream",
     "text": [
      "[CV] ............. svr__C=0.1, score=0.5961437680743831, total=   2.5s\n",
      "[CV] svr__C=0.1 ......................................................\n"
     ]
    },
    {
     "name": "stderr",
     "output_type": "stream",
     "text": [
      "[Parallel(n_jobs=1)]: Done   2 out of   2 | elapsed:    5.1s remaining:    0.0s\n"
     ]
    },
    {
     "name": "stdout",
     "output_type": "stream",
     "text": [
      "[CV] ............. svr__C=0.1, score=0.5902271852026608, total=   2.6s\n",
      "[CV] svr__C=0.1 ......................................................\n",
      "[CV] ............. svr__C=0.1, score=0.5955791402350598, total=   2.2s\n",
      "[CV] svr__C=0.1 ......................................................\n",
      "[CV] ............. svr__C=0.1, score=0.6010509508008012, total=   2.2s\n",
      "[CV] svr__C=1 ........................................................\n",
      "[CV] ............... svr__C=1, score=0.6002570065375781, total=   3.1s\n",
      "[CV] svr__C=1 ........................................................\n",
      "[CV] ............... svr__C=1, score=0.5961128905325311, total=   3.1s\n",
      "[CV] svr__C=1 ........................................................\n",
      "[CV] ............... svr__C=1, score=0.5904125583663745, total=   3.2s\n",
      "[CV] svr__C=1 ........................................................\n",
      "[CV] ............... svr__C=1, score=0.5956627798078467, total=   4.4s\n",
      "[CV] svr__C=1 ........................................................\n",
      "[CV] ............... svr__C=1, score=0.6012479443593219, total=   4.4s\n",
      "[CV] svr__C=10 .......................................................\n",
      "[CV] .............. svr__C=10, score=0.6003675540899003, total=  15.1s\n",
      "[CV] svr__C=10 .......................................................\n",
      "[CV] .............. svr__C=10, score=0.5957696729128086, total=  12.4s\n",
      "[CV] svr__C=10 .......................................................\n",
      "[CV] .............. svr__C=10, score=0.5902220099590534, total=  12.5s\n",
      "[CV] svr__C=10 .......................................................\n",
      "[CV] ............... svr__C=10, score=0.595655222633587, total=  14.0s\n",
      "[CV] svr__C=10 .......................................................\n",
      "[CV] .............. svr__C=10, score=0.6013370891441097, total=  12.7s\n"
     ]
    },
    {
     "name": "stderr",
     "output_type": "stream",
     "text": [
      "[Parallel(n_jobs=1)]: Done  15 out of  15 | elapsed:  1.7min finished\n"
     ]
    },
    {
     "name": "stdout",
     "output_type": "stream",
     "text": [
      "CPU times: user 1min 34s, sys: 6.56 s, total: 1min 40s\n",
      "Wall time: 1min 44s\n"
     ]
    },
    {
     "data": {
      "text/plain": [
       "GridSearchCV(cv=5, error_score='raise',\n",
       "       estimator=Pipeline(memory=None,\n",
       "     steps=[('scaler', StandardScaler(copy=True, with_mean=True, with_std=True)), ('svr', LinearSVR(C=1.0, dual=True, epsilon=0.0, fit_intercept=True,\n",
       "     intercept_scaling=1.0, loss='epsilon_insensitive', max_iter=1000,\n",
       "     random_state=None, tol=0.0001, verbose=0))]),\n",
       "       fit_params=None, iid=True, n_jobs=1,\n",
       "       param_grid={'svr__C': [0.1, 1, 10]}, pre_dispatch='2*n_jobs',\n",
       "       refit=True, return_train_score='warn', scoring=None, verbose=3)"
      ]
     },
     "execution_count": 15,
     "metadata": {},
     "output_type": "execute_result"
    }
   ],
   "source": [
    "%time svr_cv.fit(X_train,y_train)"
   ]
  },
  {
   "cell_type": "code",
   "execution_count": 16,
   "metadata": {},
   "outputs": [
    {
     "name": "stdout",
     "output_type": "stream",
     "text": [
      "CPU times: user 79.7 ms, sys: 51.8 ms, total: 131 ms\n",
      "Wall time: 117 ms\n"
     ]
    }
   ],
   "source": [
    "%time y_pred = svr_cv.predict(X_test)"
   ]
  },
  {
   "cell_type": "code",
   "execution_count": 17,
   "metadata": {},
   "outputs": [
    {
     "name": "stdout",
     "output_type": "stream",
     "text": [
      "Best Parameters: {'svr__C': 1}\n",
      "Best score is 0.5967386387700826\n"
     ]
    }
   ],
   "source": [
    "print(\"Best Parameters: {}\".format(svr_cv.best_params_)) "
   ]
  },
  {
   "cell_type": "code",
   "execution_count": 18,
   "metadata": {},
   "outputs": [
    {
     "name": "stderr",
     "output_type": "stream",
     "text": [
      "/Users/andrew/anaconda3/lib/python3.6/site-packages/ipykernel/__main__.py:3: RuntimeWarning: invalid value encountered in log\n",
      "  app.launch_new_instance()\n"
     ]
    },
    {
     "data": {
      "text/plain": [
       "0.4899128923052467"
      ]
     },
     "execution_count": 18,
     "metadata": {},
     "output_type": "execute_result"
    }
   ],
   "source": [
    "rmsle(y_test,y_pred)"
   ]
  },
  {
   "cell_type": "code",
   "execution_count": 19,
   "metadata": {},
   "outputs": [
    {
     "name": "stdout",
     "output_type": "stream",
     "text": [
      "Model R-Squared: 50.38%\n"
     ]
    }
   ],
   "source": [
    "print(\"Model R-Squared: {:.2f}%\".format(100*svr_cv.score(X_test, y_test)))"
   ]
  },
  {
   "cell_type": "markdown",
   "metadata": {},
   "source": [
    "With a value of **0.4899**, RMSLE decreased compared to linear regression which is our main goal. It is also important to mention that the model $R^2$ decreased to **50.38%**. The best slack value is 1.0. Now let's move on to more powerful and popular machine learning algorithms, ensemble methods. "
   ]
  },
  {
   "cell_type": "markdown",
   "metadata": {},
   "source": [
    "### Random Forest <a name='rforest'></a>\n",
    "***\n",
    "Random Forest generates bootstrap training samples (sample with replacement from the data set), and for each one it creates a tree. However, it doesn't just randomize the training samples, it also randomizes a set of predictors allowed to use each time a split is considered which is called bagging. It is harder to interpret but the predictive accuracy tends to be a lot better than compared to doing it just for one tree and superior to other methods as well.\n",
    "\n",
    "Let's use RandomForestRegressor combined with GridSearchCV will allow us to do cross validation and hyperparameter tuning at the same time. The following parameters will be tuned:\n",
    "\n",
    "- max_features: the number of features to consider when looking for the best split. Usually the default works so for simplicity let's use only 'auto'.\n",
    "- n_estimators: The number of trees in the forest. Let's use lower number of trees due to the large amount of data. "
   ]
  },
  {
   "cell_type": "code",
   "execution_count": 20,
   "metadata": {},
   "outputs": [
    {
     "name": "stdout",
     "output_type": "stream",
     "text": [
      "Fitting 5 folds for each of 4 candidates, totalling 20 fits\n",
      "[CV] max_features=auto, n_estimators=20 ..............................\n",
      "[CV]  max_features=auto, n_estimators=20, score=0.7933373924964942, total= 4.3min\n",
      "[CV] max_features=auto, n_estimators=20 ..............................\n"
     ]
    },
    {
     "name": "stderr",
     "output_type": "stream",
     "text": [
      "[Parallel(n_jobs=1)]: Done   1 out of   1 | elapsed:  4.5min remaining:    0.0s\n"
     ]
    },
    {
     "name": "stdout",
     "output_type": "stream",
     "text": [
      "[CV]  max_features=auto, n_estimators=20, score=0.7964785882110328, total= 4.1min\n",
      "[CV] max_features=auto, n_estimators=20 ..............................\n"
     ]
    },
    {
     "name": "stderr",
     "output_type": "stream",
     "text": [
      "[Parallel(n_jobs=1)]: Done   2 out of   2 | elapsed:  8.8min remaining:    0.0s\n"
     ]
    },
    {
     "name": "stdout",
     "output_type": "stream",
     "text": [
      "[CV]  max_features=auto, n_estimators=20, score=0.7817344300187744, total= 4.3min\n",
      "[CV] max_features=auto, n_estimators=20 ..............................\n",
      "[CV]  max_features=auto, n_estimators=20, score=0.7971821006507348, total= 4.1min\n",
      "[CV] max_features=auto, n_estimators=20 ..............................\n",
      "[CV]  max_features=auto, n_estimators=20, score=0.7909912608758295, total= 4.1min\n",
      "[CV] max_features=auto, n_estimators=30 ..............................\n",
      "[CV]  max_features=auto, n_estimators=30, score=0.7973523359735892, total= 6.2min\n",
      "[CV] max_features=auto, n_estimators=30 ..............................\n",
      "[CV]  max_features=auto, n_estimators=30, score=0.7999287823472977, total= 6.2min\n",
      "[CV] max_features=auto, n_estimators=30 ..............................\n",
      "[CV]  max_features=auto, n_estimators=30, score=0.7849311376879485, total= 6.3min\n",
      "[CV] max_features=auto, n_estimators=30 ..............................\n",
      "[CV]  max_features=auto, n_estimators=30, score=0.8006401406250621, total= 6.0min\n",
      "[CV] max_features=auto, n_estimators=30 ..............................\n",
      "[CV]  max_features=auto, n_estimators=30, score=0.7952415586035255, total= 6.3min\n",
      "[CV] max_features=auto, n_estimators=40 ..............................\n",
      "[CV]  max_features=auto, n_estimators=40, score=0.7996088353162267, total= 8.3min\n",
      "[CV] max_features=auto, n_estimators=40 ..............................\n",
      "[CV]  max_features=auto, n_estimators=40, score=0.8020606834681654, total= 8.1min\n",
      "[CV] max_features=auto, n_estimators=40 ..............................\n",
      "[CV]  max_features=auto, n_estimators=40, score=0.7862802079946392, total= 8.0min\n",
      "[CV] max_features=auto, n_estimators=40 ..............................\n",
      "[CV]  max_features=auto, n_estimators=40, score=0.8037341429660856, total= 7.8min\n",
      "[CV] max_features=auto, n_estimators=40 ..............................\n",
      "[CV]  max_features=auto, n_estimators=40, score=0.7970048398509275, total= 8.0min\n",
      "[CV] max_features=auto, n_estimators=50 ..............................\n",
      "[CV]  max_features=auto, n_estimators=50, score=0.8007239610970616, total= 9.9min\n",
      "[CV] max_features=auto, n_estimators=50 ..............................\n",
      "[CV]  max_features=auto, n_estimators=50, score=0.8030194564740423, total=10.3min\n",
      "[CV] max_features=auto, n_estimators=50 ..............................\n",
      "[CV]  max_features=auto, n_estimators=50, score=0.7877101923961282, total= 9.5min\n",
      "[CV] max_features=auto, n_estimators=50 ..............................\n",
      "[CV]  max_features=auto, n_estimators=50, score=0.8031011298748545, total= 9.3min\n",
      "[CV] max_features=auto, n_estimators=50 ..............................\n",
      "[CV]  max_features=auto, n_estimators=50, score=0.7987040851028651, total= 9.5min\n"
     ]
    },
    {
     "name": "stderr",
     "output_type": "stream",
     "text": [
      "[Parallel(n_jobs=1)]: Done  20 out of  20 | elapsed: 147.7min finished\n"
     ]
    },
    {
     "name": "stdout",
     "output_type": "stream",
     "text": [
      "CPU times: user 2h 36min 1s, sys: 2min 4s, total: 2h 38min 6s\n",
      "Wall time: 2h 39min 42s\n"
     ]
    },
    {
     "data": {
      "text/plain": [
       "GridSearchCV(cv=5, error_score='raise',\n",
       "       estimator=RandomForestRegressor(bootstrap=True, criterion='mse', max_depth=None,\n",
       "           max_features='auto', max_leaf_nodes=None,\n",
       "           min_impurity_decrease=0.0, min_impurity_split=None,\n",
       "           min_samples_leaf=1, min_samples_split=2,\n",
       "           min_weight_fraction_leaf=0.0, n_estimators=10, n_jobs=1,\n",
       "           oob_score=False, random_state=None, verbose=0, warm_start=False),\n",
       "       fit_params=None, iid=True, n_jobs=1,\n",
       "       param_grid={'max_features': ['auto'], 'n_estimators': [20, 30, 40, 50]},\n",
       "       pre_dispatch='2*n_jobs', refit=True, return_train_score='warn',\n",
       "       scoring=None, verbose=3)"
      ]
     },
     "execution_count": 20,
     "metadata": {},
     "output_type": "execute_result"
    }
   ],
   "source": [
    "params = {'max_features': ['auto'],\n",
    "          'n_estimators': [20, 30, 40, 50]}\n",
    "\n",
    "forest_cv = GridSearchCV(RandomForestRegressor(),params, cv=5,verbose=3)\n",
    "%time forest_cv.fit(X_train,y_train)"
   ]
  },
  {
   "cell_type": "code",
   "execution_count": 21,
   "metadata": {},
   "outputs": [
    {
     "name": "stdout",
     "output_type": "stream",
     "text": [
      "CPU times: user 15.9 s, sys: 4.15 s, total: 20.1 s\n",
      "Wall time: 20.4 s\n",
      "Best Parameters: {'max_features': 'auto', 'n_estimators': 50}\n",
      "Best score is 0.7986517713325384\n"
     ]
    }
   ],
   "source": [
    "%time y_pred = forest_cv.predict(X_test)\n",
    "\n",
    "print(\"Best Parameters: {}\".format(forest_cv.best_params_)) "
   ]
  },
  {
   "cell_type": "code",
   "execution_count": 22,
   "metadata": {},
   "outputs": [
    {
     "data": {
      "text/plain": [
       "0.3656619998336051"
      ]
     },
     "execution_count": 22,
     "metadata": {},
     "output_type": "execute_result"
    }
   ],
   "source": [
    "rmsle(y_test,y_pred)"
   ]
  },
  {
   "cell_type": "code",
   "execution_count": 23,
   "metadata": {},
   "outputs": [
    {
     "name": "stdout",
     "output_type": "stream",
     "text": [
      "Model R-Squared: 79.95%\n"
     ]
    }
   ],
   "source": [
    "print(\"Model R-Squared: {:.2f}%\".format(100*forest_cv.score(X_test, y_test)))"
   ]
  },
  {
   "cell_type": "markdown",
   "metadata": {},
   "source": [
    "With a value of **0.3656**, RMSLE decreased compared to Linear Regression and SVM. So far Random Forest has performed better than any other model with not much of tuning. $R^2$ of the model is **79.95%**. However, fitting time was high compared to the previous models at **2hr 39min**."
   ]
  },
  {
   "cell_type": "markdown",
   "metadata": {},
   "source": [
    "### XGBoost <a name='xgboost'></a>\n",
    "***\n",
    "XGBoost builds really short and simple decision trees iteratively. Each tree is called a \"weak learner\" for their high bias. The algorithm goes on by sequentially building more weak learners, each one correcting the previous tree until a stopping condition is reached, such as the number of trees (n_estimators) to build. In this case, it will be limited to 50 because due to the large data it does become computationally expensive. First, let's use xgboost with no hyperparameter tuning."
   ]
  },
  {
   "cell_type": "code",
   "execution_count": 24,
   "metadata": {},
   "outputs": [
    {
     "name": "stdout",
     "output_type": "stream",
     "text": [
      "CPU times: user 12.5 s, sys: 500 ms, total: 13 s\n",
      "Wall time: 13.2 s\n"
     ]
    },
    {
     "data": {
      "text/plain": [
       "XGBRegressor(base_score=0.5, booster='gbtree', colsample_bylevel=1,\n",
       "       colsample_bytree=1, gamma=0, learning_rate=0.1, max_delta_step=0,\n",
       "       max_depth=3, min_child_weight=1, missing=None, n_estimators=10,\n",
       "       n_jobs=1, nthread=None, objective='reg:linear', random_state=0,\n",
       "       reg_alpha=0, reg_lambda=1, scale_pos_weight=1, seed=None,\n",
       "       silent=True, subsample=1)"
      ]
     },
     "execution_count": 24,
     "metadata": {},
     "output_type": "execute_result"
    }
   ],
   "source": [
    "clf = XGBRegressor(n_estimators=10)\n",
    "%time clf.fit(X_train, y_train)"
   ]
  },
  {
   "cell_type": "code",
   "execution_count": 25,
   "metadata": {},
   "outputs": [
    {
     "name": "stdout",
     "output_type": "stream",
     "text": [
      "CPU times: user 174 ms, sys: 81.2 ms, total: 256 ms\n",
      "Wall time: 265 ms\n"
     ]
    }
   ],
   "source": [
    "%time y_pred = clf.predict(X_test)"
   ]
  },
  {
   "cell_type": "code",
   "execution_count": 26,
   "metadata": {},
   "outputs": [
    {
     "data": {
      "text/plain": [
       "0.5694031683493537"
      ]
     },
     "execution_count": 26,
     "metadata": {},
     "output_type": "execute_result"
    }
   ],
   "source": [
    "rmsle(y_test,y_pred)"
   ]
  },
  {
   "cell_type": "code",
   "execution_count": 27,
   "metadata": {},
   "outputs": [
    {
     "name": "stdout",
     "output_type": "stream",
     "text": [
      "Model R-Squared: 37.13%\n"
     ]
    }
   ],
   "source": [
    "print(\"Model R-Squared: {:.2f}%\".format(100*clf.score(X_test, y_test)))"
   ]
  },
  {
   "cell_type": "markdown",
   "metadata": {},
   "source": [
    "With no hyperparameter tuning, the model does worse than our base model linear regression in $R^2$ and rmsle. RMSLE is **0.5694** and $R^2$ is **37.13%.** Now let's tune XGBoost and check if the model gives a better result."
   ]
  },
  {
   "cell_type": "markdown",
   "metadata": {},
   "source": [
    "### Tuning XGBoost <a name='tuning'></a>\n",
    "***\n",
    "Tuning is possible for really small datasets, but as the data grows, training time grows too, and each step in the tuning process becomes more expensive. Here we will tune only 8 hyperparameters that have big impact on performance.\n",
    "\n",
    "Since in this case the dataset is large (1.4 million entries), XGBRegressor was tested a few times with different parameters until it got a good enough solution. It would be necessary to test all combinations to ensure the optimal solution. This notebook will only show the best parameters for simplicity. For more details of how this parameters were chosen, please refer to the notebook [Tuning XGBoost](https://github.com/emmpew/datascience/blob/master/capstone_project/tuning_xgboost.ipynb)."
   ]
  },
  {
   "cell_type": "code",
   "execution_count": 28,
   "metadata": {},
   "outputs": [
    {
     "name": "stdout",
     "output_type": "stream",
     "text": [
      "CPU times: user 2min 45s, sys: 449 ms, total: 2min 45s\n",
      "Wall time: 2min 45s\n"
     ]
    },
    {
     "data": {
      "text/plain": [
       "XGBRegressor(base_score=0.5, booster='gbtree', colsample_bylevel=1,\n",
       "       colsample_bytree=1.0, gamma=0, learning_rate=0.1, max_delta_step=0,\n",
       "       max_depth=8, min_child_weight=10, missing=None, n_estimators=50,\n",
       "       n_jobs=1, nthread=None, objective='reg:linear', random_state=0,\n",
       "       reg_alpha=0, reg_lambda=1, scale_pos_weight=1, seed=None,\n",
       "       silent=True, subsample=1.0)"
      ]
     },
     "execution_count": 28,
     "metadata": {},
     "output_type": "execute_result"
    }
   ],
   "source": [
    "max_depth = 8\n",
    "min_child_weight = 10\n",
    "subsample = 1.0\n",
    "colsample_bytree = 1.0\n",
    "objective = 'reg:linear'\n",
    "num_estimators = 50\n",
    "# learning_rate = 0.4\n",
    "# reg_lambda=4\n",
    "\n",
    "clf = XGBRegressor(max_depth=max_depth,\n",
    "                min_child_weight=min_child_weight,\n",
    "                subsample=subsample,\n",
    "                colsample_bytree=colsample_bytree,\n",
    "                objective=objective,\n",
    "                n_estimators=num_estimators)\n",
    "%time clf.fit(X_train, y_train)"
   ]
  },
  {
   "cell_type": "code",
   "execution_count": 29,
   "metadata": {},
   "outputs": [
    {
     "name": "stdout",
     "output_type": "stream",
     "text": [
      "CPU times: user 2.12 s, sys: 47.3 ms, total: 2.17 s\n",
      "Wall time: 2.16 s\n"
     ]
    }
   ],
   "source": [
    "%time y_pred = clf.predict(X_test)"
   ]
  },
  {
   "cell_type": "code",
   "execution_count": 30,
   "metadata": {},
   "outputs": [
    {
     "name": "stderr",
     "output_type": "stream",
     "text": [
      "/Users/andrew/anaconda3/lib/python3.6/site-packages/ipykernel/__main__.py:3: RuntimeWarning: invalid value encountered in log\n",
      "  app.launch_new_instance()\n"
     ]
    },
    {
     "data": {
      "text/plain": [
       "0.38501177796054564"
      ]
     },
     "execution_count": 30,
     "metadata": {},
     "output_type": "execute_result"
    }
   ],
   "source": [
    "rmsle(y_test,y_pred)"
   ]
  },
  {
   "cell_type": "code",
   "execution_count": 31,
   "metadata": {},
   "outputs": [
    {
     "name": "stdout",
     "output_type": "stream",
     "text": [
      "Model R-Squared: 78.69%\n"
     ]
    }
   ],
   "source": [
    "print(\"Model R-Squared: {:.2f}%\".format(100*clf.score(X_test, y_test)))"
   ]
  },
  {
   "cell_type": "markdown",
   "metadata": {},
   "source": [
    "Only tuning 5 of more than 20 hyperparameters, XGBoost does not do better than Random Forest. RMSLE is **0.3850** with $R^2$ of **78.69%**. Even though $R^2$ slighlty improved compared to Random Forest, tuning the hyperparmaters took more time (a notebook was dedicated to tuning XGBoost). "
   ]
  },
  {
   "cell_type": "code",
   "execution_count": 32,
   "metadata": {},
   "outputs": [
    {
     "data": {
      "image/png": "[encoded data removed]",
      "text/plain": [
       "<Figure size 1080x1080 with 1 Axes>"
      ]
     },
     "metadata": {},
     "output_type": "display_data"
    }
   ],
   "source": [
    "fig =  plt.figure(figsize = (15,15))\n",
    "axes = fig.add_subplot(111)\n",
    "xgb.plot_importance(clf,ax = axes,height =0.5)\n",
    "plt.show()"
   ]
  },
  {
   "cell_type": "markdown",
   "metadata": {},
   "source": [
    "The most important features are the pickup_hour coordinates and the least important store_and_fwd_flag. "
   ]
  },
  {
   "cell_type": "markdown",
   "metadata": {},
   "source": [
    "## 2. Conclusion <a name=\"conclusion\"></a>\n",
    "***\n",
    "\n",
    "Public transportation within New York City is relatively inexpensive, convenient and efficient. Taxis are essential part of the city. This project shows several characteristics of taxi rides, such as rush hours, GPS precision, average speed of taxis per hour, pickup and dropoff activity, etc. Through out the project data wrangling, exploratoty data analys, data cleaning and feature engineering was used to explore, analyze and make conclusions of the data. Below are some of the most important findings of the project:\n",
    "\n",
    "- Most of the taxi trips in the data were between 3 to 50 minutes. \n",
    "- Most of the activity happened in Manhattan. As well, there was some activity in the airports J.F. Kennedy and La Guardia. \n",
    "- Daily pickups during January 2016 and June 2016 were fairly homogeneous. However, there was a drop in demand near the end of January. From January 22 to 24, 2016, there was a blizzard that hit the East Coast. According to [weather.gov](https://www.weather.gov/okx/Blizzard_Jan2016), Central Park, NY received 27.5\" of snow, which is the largest snowstorm since records began in 1869.\n",
    "- The busiest day during the week for taxi drivers in NYC was Friday and the slowest day was Monday. \n",
    "- The passenger count showed that most of the taxi trips carry only one passenger.\n",
    "- The number of pickups per hour was higher at night with a peak between 6 and 7 PM when most people get out of work. \n",
    "- At around 5 in the morning, the taxi demand was the lowest. There is a rise of demand thoughout the day.\n",
    "- Most taxis sent the taxi trip information immediately and only few of them had an issue connecting to the server and had to store it. \n",
    "- There were 2 different vendors in the data and vendor 2 had more trips in the 6 month period in 2016.\n",
    "- The response variable trip_duration had no linear relationship with any of the features.\n",
    "- The GPS precision of the taxis varied from 1 up to 15 decimals. According to the [Degree Precision vs. Length Table](https://en.wikipedia.org/wiki/Decimal_degrees), a coordinate with 15 decimals would be equal to 0.1 nanometer(the size of an atom!), which sounds unrealistic for a taxi. In this project, all coordinates were rounded to 5 decimals, which is worth up to 1.1 m. According to Wikipedia, it distinguishes trees from each other which makes a good precision for a big city.\n",
    "- There was a really high demand after midnight on Friday, Saturday and Sunday. \n",
    "- For the 7 days of the week the demand was really low around 5 AM.\n",
    "- There was high demand between 7 and 10 AM from Monday to Friday.\n",
    "- Taxi demand stabilizes after 10 AM until 4 PM for all of the days in the week but still being pretty high.\n",
    "- At night, demand starts to slow down except on Fridays and Saturdays.\n",
    "\n",
    "These are just a few of the findings. For a more in depth analysis, please refer to this notebook. Just remember, even if your next [taxi driver](https://www.youtube.com/watch?v=kAd57FSAtMw) in NYC is really good at doing his job or has 5 stars on your favorite ridesharing app, traffic is just part of that NYC life unless it's 5 am."
   ]
  },
  {
   "cell_type": "markdown",
   "metadata": {},
   "source": [
    "### Results <a name=\"results\"></a>\n",
    "***\n",
    "\n",
    "Four different supervised regression algorithms were used to model the data. Below is a table that shows the $R^2$, fitting time, prediction time and RMSLE of each algorithm."
   ]
  },
  {
   "cell_type": "code",
   "execution_count": 34,
   "metadata": {},
   "outputs": [
    {
     "data": {
      "text/html": [
       "<div>\n",
       "<style scoped>\n",
       "    .dataframe tbody tr th:only-of-type {\n",
       "        vertical-align: middle;\n",
       "    }\n",
       "\n",
       "    .dataframe tbody tr th {\n",
       "        vertical-align: top;\n",
       "    }\n",
       "\n",
       "    .dataframe thead th {\n",
       "        text-align: right;\n",
       "    }\n",
       "</style>\n",
       "<table border=\"1\" class=\"dataframe\">\n",
       "  <thead>\n",
       "    <tr style=\"text-align: right;\">\n",
       "      <th></th>\n",
       "      <th>Fitting Time</th>\n",
       "      <th>Prediction Time</th>\n",
       "      <th>R-Squared</th>\n",
       "      <th>RMSLE</th>\n",
       "    </tr>\n",
       "  </thead>\n",
       "  <tbody>\n",
       "    <tr>\n",
       "      <th>Linear Regression</th>\n",
       "      <td>16.2 s</td>\n",
       "      <td>78.2 ms</td>\n",
       "      <td>55.79%</td>\n",
       "      <td>0.5397</td>\n",
       "    </tr>\n",
       "    <tr>\n",
       "      <th>SVM</th>\n",
       "      <td>1min 44s</td>\n",
       "      <td>117 ms</td>\n",
       "      <td>50.38%</td>\n",
       "      <td>0.4899</td>\n",
       "    </tr>\n",
       "    <tr>\n",
       "      <th>Random Forest</th>\n",
       "      <td>2hr 39min</td>\n",
       "      <td>20.4 s</td>\n",
       "      <td>79.95%</td>\n",
       "      <td>0.3656</td>\n",
       "    </tr>\n",
       "    <tr>\n",
       "      <th>XGBoost</th>\n",
       "      <td>~2hr</td>\n",
       "      <td>2.16 s</td>\n",
       "      <td>78.74%</td>\n",
       "      <td>0.3840</td>\n",
       "    </tr>\n",
       "  </tbody>\n",
       "</table>\n",
       "</div>"
      ],
      "text/plain": [
       "                  Fitting Time Prediction Time R-Squared   RMSLE\n",
       "Linear Regression       16.2 s         78.2 ms    55.79%  0.5397\n",
       "SVM                   1min 44s          117 ms    50.38%  0.4899\n",
       "Random Forest        2hr 39min          20.4 s    79.95%  0.3656\n",
       "XGBoost                   ~2hr          2.16 s    78.74%  0.3840"
      ]
     },
     "execution_count": 34,
     "metadata": {},
     "output_type": "execute_result"
    }
   ],
   "source": [
    "d = {'RMSLE': {'Linear Regression': 0.5397, 'SVM': 0.4899, 'Random Forest': 0.3656, 'XGBoost': 0.3840},\n",
    "     'R-Squared': {'Linear Regression': '55.79%', 'SVM': '50.38%', 'Random Forest': '79.95%', 'XGBoost': '78.74%'}, \n",
    "     'Fitting Time': {'Linear Regression': '16.2 s', 'SVM': '1min 44s', 'Random Forest': '2hr 39min', 'XGBoost': '~2hr'},\n",
    "     'Prediction Time': {'Linear Regression': '78.2 ms', 'SVM': '117 ms', 'Random Forest': '20.4 s', 'XGBoost': '2.16 s'}}\n",
    "df = pd.DataFrame(d).reindex(index = ['Linear Regression','SVM','Random Forest','XGBoost'])\n",
    "df"
   ]
  },
  {
   "cell_type": "markdown",
   "metadata": {},
   "source": [
    "Since the goal of the project was to reduce RMSLE, Random Forest gave the best result with **0.3656** making this project to the **38th place** on the [Kaggle Leaderboard](https://www.kaggle.com/c/nyc-taxi-trip-duration/leaderboard). XGBoost gave a close result; however, the time spent tuning XGBoost was already high, in fact there is a separate notebook just for [Tuning XGBoost](https://github.com/emmpew/datascience/blob/master/capstone_project/tuning_xgboost.ipynb). It would require tuning more parameters and more fitting time to make the popular XGBoost perform better than Random Forest. For this project, Random Forest was the easiest to tune and gave the best results. It needed 50 n_estimators to get the lowest RMSLE. The $R^2$ of the model was **79.95%** making this project a success. "
   ]
  },
  {
   "cell_type": "markdown",
   "metadata": {},
   "source": [
    "### Recommendations <a name=\"recommendations\"></a>\n",
    "***\n",
    "This is just the beginning of predicting a NYC taxi trip. There is a lot more that can be done to improve RMSLE. \n",
    "\n",
    "Some ways to improve RMSLE:\n",
    "\n",
    "- Testing for more possible hyperparameter values for Random Forest and XGBoost as well. XGBoost tends to be a more powerful algorithm; however, in this project only 5 parameters were tuned.\n",
    "- More in depth data cleaning \n",
    "- More feature engineering relevant to the dataset.\n",
    "- Trying another model that would give better results."
   ]
  },
  {
   "cell_type": "code",
   "execution_count": null,
   "metadata": {},
   "outputs": [],
   "source": []
  }
 ],
 "metadata": {
  "kernelspec": {
   "display_name": "Python [default]",
   "language": "python",
   "name": "python3"
  },
  "language_info": {
   "codemirror_mode": {
    "name": "ipython",
    "version": 3
   },
   "file_extension": ".py",
   "mimetype": "text/x-python",
   "name": "python",
   "nbconvert_exporter": "python",
   "pygments_lexer": "ipython3",
   "version": "3.6.4"
  }
 },
 "nbformat": 4,
 "nbformat_minor": 2
}
